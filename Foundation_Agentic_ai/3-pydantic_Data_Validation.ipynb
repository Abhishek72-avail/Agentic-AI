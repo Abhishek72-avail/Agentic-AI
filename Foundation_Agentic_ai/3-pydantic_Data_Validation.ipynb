{
 "cells": [
  {
   "cell_type": "code",
   "execution_count": 28,
   "id": "633909a6",
   "metadata": {},
   "outputs": [
    {
     "name": "stdout",
     "output_type": "stream",
     "text": [
      "Requirement already satisfied: pydantic in c:\\users\\abhis\\appdata\\local\\programs\\python\\python312\\lib\\site-packages (2.11.7)\n",
      "Requirement already satisfied: annotated-types>=0.6.0 in c:\\users\\abhis\\appdata\\local\\programs\\python\\python312\\lib\\site-packages (from pydantic) (0.7.0)\n",
      "Requirement already satisfied: pydantic-core==2.33.2 in c:\\users\\abhis\\appdata\\local\\programs\\python\\python312\\lib\\site-packages (from pydantic) (2.33.2)\n",
      "Requirement already satisfied: typing-extensions>=4.12.2 in c:\\users\\abhis\\appdata\\local\\programs\\python\\python312\\lib\\site-packages (from pydantic) (4.12.2)\n",
      "Requirement already satisfied: typing-inspection>=0.4.0 in c:\\users\\abhis\\appdata\\local\\programs\\python\\python312\\lib\\site-packages (from pydantic) (0.4.1)\n",
      "Note: you may need to restart the kernel to use updated packages.\n",
      "id=1 name='Abhishek prasad'\n"
     ]
    }
   ],
   "source": [
    "#pydantic data validation\n",
    "\n",
    "%pip install pydantic\n",
    "from pydantic import BaseModel\n",
    "\n",
    "# validation of data user data\n",
    "\n",
    "class User(BaseModel):\n",
    "    id: int\n",
    "    name: str \n",
    "\n",
    "usr = User(id=1, name='Abhishek prasad')\n",
    "print(usr)"
   ]
  },
  {
   "cell_type": "code",
   "execution_count": 29,
   "id": "8b7099c8",
   "metadata": {},
   "outputs": [
    {
     "name": "stdout",
     "output_type": "stream",
     "text": [
      "id=2 name='Abhishek prasad' age=30 salary=1000.0\n"
     ]
    }
   ],
   "source": [
    "# user default values\n",
    "class User(BaseModel):\n",
    "    id: int\n",
    "    name: str  |None = None\n",
    "    age: int = 30\n",
    "    salary: float |None = None\n",
    "usr1 = User(id=2, name='Abhishek prasad', age=30, salary=1000)\n",
    "print(usr1)"
   ]
  },
  {
   "cell_type": "code",
   "execution_count": 30,
   "id": "dbb93e58",
   "metadata": {},
   "outputs": [
    {
     "name": "stdout",
     "output_type": "stream",
     "text": [
      "User(id='3', name='Abhishek prasad', age=30, salary=1000)\n"
     ]
    }
   ],
   "source": [
    "from dataclasses import dataclass\n",
    "\n",
    "@dataclass\n",
    "class User:\n",
    "    id: int\n",
    "    name: str  |None = None\n",
    "    age: int = 30\n",
    "    salary: float |None = None\n",
    "\n",
    "usr2 = User(id=\"3\", name='Abhishek prasad', age=30, salary=1000)\n",
    "print(usr2)"
   ]
  },
  {
   "cell_type": "markdown",
   "id": "4b1b5171",
   "metadata": {},
   "source": [
    "## scenario : user registration api input"
   ]
  },
  {
   "cell_type": "code",
   "execution_count": 31,
   "id": "009ed274",
   "metadata": {},
   "outputs": [
    {
     "data": {
      "text/plain": [
       "{'username': 'john_doe',\n",
       " 'email': 'abc@gmial.com',\n",
       " 'password': 'securepassword123',\n",
       " 'age': 25,\n",
       " 'joined_at': '2023-10-01T12:00:00Z'}"
      ]
     },
     "execution_count": 31,
     "metadata": {},
     "output_type": "execute_result"
    }
   ],
   "source": [
    "# you are building a backend  service that receives JSON payloads from a front-end form:\n",
    "\n",
    "{\n",
    "    \"username\": \"john_doe\",\n",
    "    \"email\": \"abc@gmial.com\",\n",
    "    \"password\": \"securepassword123\",\n",
    "    \"age\": 25,\n",
    "    \"joined_at\" : \"2023-10-01T12:00:00Z\"\n",
    "}"
   ]
  },
  {
   "cell_type": "markdown",
   "id": "e38b1416",
   "metadata": {},
   "source": [
    "## You need to:\n",
    "    - validation the email format\n",
    "    - Ensure age is a positive integer   \n",
    "    - Ensure password meets minimum length requirements\n",
    "    - convert \"30\" to integer \n",
    "    - parse \"2025-07-03\" into a datetime.date\n"
   ]
  },
  {
   "cell_type": "code",
   "execution_count": 32,
   "id": "a853467f",
   "metadata": {},
   "outputs": [],
   "source": [
    "from pydantic import  BaseModel, EmailStr, field_validator, ValidationError\n",
    "from datetime import date\n",
    "\n",
    "class UserRegistration(BaseModel):\n",
    "    username: str\n",
    "    email: str\n",
    "    password: str\n",
    "    age: int\n",
    "    joined_at: date\n",
    "\n",
    "@field_validator('age', mode=\"after\")\n",
    "@classmethod\n",
    "def validate_age(cls, value):\n",
    "    if value < 0:\n",
    "        raise ValueError(\"Age must be a positive integer\")\n",
    "    return value    \n",
    "\n",
    "@field_validator('password', mode=\"after\")\n",
    "@classmethod\n",
    "def validate_password(cls, value):\n",
    "    if len(value) < 10:\n",
    "        raise ValueError(\"password must be at least 10 characters long\")\n",
    "    return value    \n"
   ]
  },
  {
   "cell_type": "code",
   "execution_count": 33,
   "id": "cbe0d676",
   "metadata": {},
   "outputs": [
    {
     "name": "stdout",
     "output_type": "stream",
     "text": [
      "JSON output: {\"username\":\"john_doe\",\"email\":\"abc@gamil.com\",\"password\":\"securepassword123\",\"age\":25,\"joined_at\":\"2023-10-01\"}\n"
     ]
    }
   ],
   "source": [
    "# simulate the incoming g JSON payload\n",
    "incoming_data = {\n",
    "    \"username\": \"john_doe\",\n",
    "    \"email\": \"abc@gamil.com\",\n",
    "    \"password\": \"securepassword123\",    \n",
    "    \"age\": 25,\n",
    "    \"joined_at\": \"2023-10-01\"\n",
    "}\n",
    "try:\n",
    "    user = UserRegistration(**incoming_data)\n",
    "    #print(user)\n",
    "    print(\"JSON output:\", user.model_dump_json())\n",
    "except ValueError as e:\n",
    "    print(f\"Validation error: \")\n",
    "    print(e)"
   ]
  },
  {
   "cell_type": "markdown",
   "id": "4382011e",
   "metadata": {},
   "source": [
    "### nested models"
   ]
  },
  {
   "cell_type": "code",
   "execution_count": 34,
   "id": "54c6ab61",
   "metadata": {},
   "outputs": [
    {
     "name": "stdout",
     "output_type": "stream",
     "text": [
      "JSON output: {\"username\":\"john_doe\",\"email\":\"abc@gamil.com\",\"password\":\"securepassword123\",\"age\":25,\"joined_at\":\"2023-10-01\",\"address\":{\"street\":\"123 Main St\",\"city\":\"new york\",\"state\":\"CA\",\"zip_code\":\"12345\"}}\n"
     ]
    }
   ],
   "source": [
    "### nested models\n",
    "\n",
    "class Address(BaseModel):\n",
    "    street: str\n",
    "    city: str\n",
    "    state: str\n",
    "    zip_code: str\n",
    "\n",
    "class userRegistrationwithAddress(UserRegistration):\n",
    "    address: Address\n",
    "\n",
    "incoming_data = {\n",
    "    \"username\": \"john_doe\",\n",
    "    \"email\": \"abc@gamil.com\",\n",
    "    \"password\": \"securepassword123\",    \n",
    "    \"age\": 25,\n",
    "    \"joined_at\": \"2023-10-01\",\n",
    "    \"address\": {\n",
    "        \"street\": \"123 Main St\",\n",
    "        \"city\": \"new york\",\n",
    "        \"state\": \"CA\",\n",
    "        \"zip_code\": \"12345\"\n",
    "    }   \n",
    "}\n",
    "\n",
    "try:\n",
    "    user = userRegistrationwithAddress(**incoming_data)\n",
    "    print(\"JSON output:\", user.model_dump_json())\n",
    "except ValidationError as e:\n",
    "    print(f\"Validation error: \")\n",
    "    print(e)"
   ]
  }
 ],
 "metadata": {
  "kernelspec": {
   "display_name": "Python 3",
   "language": "python",
   "name": "python3"
  },
  "language_info": {
   "codemirror_mode": {
    "name": "ipython",
    "version": 3
   },
   "file_extension": ".py",
   "mimetype": "text/x-python",
   "name": "python",
   "nbconvert_exporter": "python",
   "pygments_lexer": "ipython3",
   "version": "3.12.7"
  }
 },
 "nbformat": 4,
 "nbformat_minor": 5
}
