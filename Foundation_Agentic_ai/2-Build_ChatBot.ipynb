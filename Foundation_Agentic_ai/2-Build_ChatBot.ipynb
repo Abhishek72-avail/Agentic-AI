{
 "cells": [
  {
   "cell_type": "markdown",
   "id": "cd832cf3",
   "metadata": {},
   "source": [
    "# Building  Chatbot Which will Answer on Behalf of me "
   ]
  },
  {
   "cell_type": "code",
   "execution_count": 14,
   "id": "f4bafaef",
   "metadata": {},
   "outputs": [],
   "source": [
    "#create  a chatbot . Install the required packages using:\n",
    "# uv add install openai gradio pypdf python-dotenv\n",
    "from dotenv import load_dotenv\n",
    "from openai import OpenAI\n",
    "from IPython.display import display, Markdown\n",
    "from pypdf import PdfReader\n",
    "import gradio as gr\n",
    "from pathlib import Path"
   ]
  },
  {
   "cell_type": "code",
   "execution_count": 24,
   "id": "c8367de7",
   "metadata": {},
   "outputs": [
    {
     "name": "stdout",
     "output_type": "stream",
     "text": [
      "c:\\Placment\\AI\\Agentic-AI\n"
     ]
    }
   ],
   "source": [
    "#read the PDF file\n",
    "project_root = Path.cwd().parent\n",
    "\n",
    "print(project_root)\n",
    "\n"
   ]
  },
  {
   "cell_type": "code",
   "execution_count": 25,
   "id": "8d3bccae",
   "metadata": {},
   "outputs": [
    {
     "name": "stdout",
     "output_type": "stream",
     "text": [
      "Parag Agrawal - Professional Profile\n",
      "Summary\n",
      "Parag Agrawal is an Indian-American software engineer and entrepreneur, best known for his tenure\n",
      "as the CEO of Twitter from November 2021 to October 2022. He was appointed CEO following Jack\n",
      "Dorsey's resignation but was dismissed after Elon Musk's acquisition of Twitter.\n",
      "Education and Early Career\n",
      "Agrawal holds a B.Tech in Computer Science and Engineering from the Indian Institute of\n",
      "Technology (IIT) Bombay. He then pursued a Ph.D. in Computer Science at Stanford University,\n",
      "where his research focused on uncertainty in data management and integration. Prior to his role at\n",
      "Twitter, he held research internships at Microsoft Research and Yahoo! Research.\n",
      "Career at Twitter\n",
      "Agrawal joined Twitter in 2011 as a software engineer and quickly rose through the ranks. In 2017,\n",
      "he was appointed Chief Technology Officer (CTO), overseeing Twitter's technical strategy and\n",
      "leading initiatives like Project Bluesky, aimed at developing a decentralized social media protocol.\n",
      "He succeeded Jack Dorsey as CEO in 2021, focusing on areas such as artificial intelligence,\n",
      "machine learning, and decentralization.\n",
      "Post-Twitter Venture: Parallel Web Systems\n",
      "After leaving Twitter, Agrawal co-founded Parallel Web Systems Inc., an AI startup that exited\n",
      "stealth mode in October 2024. The company has raised approximately $30 million in funding from\n",
      "investors like Khosla Ventures, Index Ventures, and First Round Capital. Parallel Web Systems\n",
      "aims to develop an API that enables AI systems to interact with web data, facilitating advanced AI\n",
      "operations on behalf of users. The startup is based in Palo Alto, California, and employs a team of\n",
      "around 10 individuals.\n",
      "Personal Life\n",
      "Agrawal is married to Vineeta Agarwala, a general partner at the venture capital firm AndreessenParag Agrawal - Professional Profile\n",
      "Horowitz, where she focuses on investments in biotech and health tech. The couple resides in San\n",
      "Francisco and has two children.\n"
     ]
    }
   ],
   "source": [
    "# read the PDF file\n",
    "filePath = project_root / \"Resourses\" / \"Profile.pdf\"\n",
    "PdfReader = PdfReader(filePath)\n",
    "prof_summary = \"\"\n",
    "for page in PdfReader.pages:\n",
    "    text = page.extract_text()\n",
    "    if text:\n",
    "        prof_summary += text\n",
    "print(prof_summary)\n",
    "\n"
   ]
  }
 ],
 "metadata": {
  "kernelspec": {
   "display_name": ".venv",
   "language": "python",
   "name": "python3"
  },
  "language_info": {
   "codemirror_mode": {
    "name": "ipython",
    "version": 3
   },
   "file_extension": ".py",
   "mimetype": "text/x-python",
   "name": "python",
   "nbconvert_exporter": "python",
   "pygments_lexer": "ipython3",
   "version": "3.12.7"
  }
 },
 "nbformat": 4,
 "nbformat_minor": 5
}
