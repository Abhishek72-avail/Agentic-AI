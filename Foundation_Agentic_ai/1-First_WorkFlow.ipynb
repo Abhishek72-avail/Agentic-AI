{
 "cells": [
  {
   "cell_type": "markdown",
   "id": "cd79b1bc",
   "metadata": {},
   "source": [
    "Welcome to the start of adventure in Agentic AI"
   ]
  },
  {
   "cell_type": "code",
   "execution_count": 31,
   "id": "cff7a6df",
   "metadata": {},
   "outputs": [
    {
     "data": {
      "text/plain": [
       "True"
      ]
     },
     "execution_count": 31,
     "metadata": {},
     "output_type": "execute_result"
    }
   ],
   "source": [
    "#load the API key into the environment\n",
    "\n",
    "from dotenv import load_dotenv\n",
    "load_dotenv(override=True)"
   ]
  },
  {
   "cell_type": "code",
   "execution_count": 32,
   "id": "bcd8bfe0",
   "metadata": {},
   "outputs": [
    {
     "name": "stdout",
     "output_type": "stream",
     "text": [
      "Base URL: https://api.deepseek.com\n",
      "API Key prefix: sk-proj-\n"
     ]
    }
   ],
   "source": [
    "import os\n",
    "\n",
    "openai_api_key = os.getenv(\"API_TOKEN\")\n",
    "deepseek_base_url = \"https://api.deepseek.com\"\n",
    "\n",
    "print(f\"Base URL: {deepseek_base_url}\")\n",
    "if openai_api_key:\n",
    "    print(f\"API Key prefix: {openai_api_key[:8]}\")\n",
    "else:\n",
    "    print(\"API Key is not set. Please check your .env file.\")"
   ]
  },
  {
   "cell_type": "code",
   "execution_count": 38,
   "id": "d73da74f",
   "metadata": {},
   "outputs": [
    {
     "name": "stdout",
     "output_type": "stream",
     "text": [
      "Error: Error code: 401 - {'error': {'message': 'Authentication Fails, Your api key: ****q3kA is invalid', 'type': 'authentication_error', 'param': None, 'code': 'invalid_request_error'}}\n",
      "Please check that your API key is valid and has access to the model.\n"
     ]
    }
   ],
   "source": [
    "#start building the  workflow\n",
    "# Make sure your .env file contains a valid API key for API_TOKEN\n",
    "# After updating the .env file, re-run the cell that loads environment variables\n",
    "\n",
    "from openai import OpenAI\n",
    "from IPython.display import Markdown, display   \n",
    "\n",
    "# openai_api_key and deepseek_base_url are already defined in previous cells\n",
    "\n",
    "openai_python_client = OpenAI(api_key=openai_api_key, base_url=deepseek_base_url)\n",
    "\n",
    "try:\n",
    "    response = openai_python_client.chat.completions.create(\n",
    "        model=\"deepseek-chat\",\n",
    "        messages=[\n",
    "            {\"role\": \"user\", \"content\": \"What is the capital of india\"},\n",
    "        ],\n",
    "        stream=False,\n",
    "    )\n",
    "    raw_response = response.choices[0].message.content\n",
    "\n",
    "    display(Markdown(f\"**Response:** {raw_response}\"))\n",
    "\n",
    "except Exception as e:\n",
    "    print(\"Error:\", e)\n",
    "    print(\"Please check that your API key is valid and has access to the model.\")"
   ]
  }
 ],
 "metadata": {
  "kernelspec": {
   "display_name": ".venv",
   "language": "python",
   "name": "python3"
  },
  "language_info": {
   "codemirror_mode": {
    "name": "ipython",
    "version": 3
   },
   "file_extension": ".py",
   "mimetype": "text/x-python",
   "name": "python",
   "nbconvert_exporter": "python",
   "pygments_lexer": "ipython3",
   "version": "3.12.7"
  }
 },
 "nbformat": 4,
 "nbformat_minor": 5
}
